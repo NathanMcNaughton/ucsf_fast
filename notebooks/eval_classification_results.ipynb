{
 "cells": [
  {
   "cell_type": "code",
   "execution_count": 17,
   "id": "3b9dda59-1850-46ab-96a5-beb1f748695b",
   "metadata": {
    "tags": []
   },
   "outputs": [],
   "source": [
    "import os\n",
    "import numpy as np\n",
    "from sklearn.metrics import confusion_matrix, precision_score, recall_score, accuracy_score, roc_auc_score\n",
    "\n",
    "\n",
    "def load_vectors(proj_name, run_name, split):\n",
    "    class_output_dir = '/scratch/users/austin.zane/ucsf_fast/data/class_outputs/'\n",
    "    run_split_dir = os.path.join(class_output_dir, proj_name, run_name, split)\n",
    "    label_pairs_path = os.path.join(run_split_dir, 'pred_and_true_labels.npy')\n",
    "    \n",
    "    label_pairs = np.load(label_pairs_path)\n",
    "    \n",
    "    pred_labels = label_pairs[:, 0]\n",
    "    true_labels = label_pairs[:, 1]\n",
    "        \n",
    "    return true_labels, pred_labels, label_pairs\n",
    "    \n",
    "\n",
    "\n",
    "def calculate_statistics(true_labels, predicted_probs, threshold=0.5):\n",
    "    \"\"\"\n",
    "    Calculate various statistics given true labels and predicted probabilities.\n",
    "\n",
    "    Args:\n",
    "        true_labels (numpy.ndarray): True binary labels.\n",
    "        predicted_probs (numpy.ndarray): Predicted probabilities.\n",
    "        threshold (float): Threshold for converting probabilities to binary predictions.\n",
    "\n",
    "    Returns:\n",
    "        dict: Dictionary containing the calculated statistics.\n",
    "    \"\"\"\n",
    "    label_ratio = sum(true_labels) / len(true_labels)\n",
    "    pred_ratio = sum(predicted_probs) / len(predicted_probs)\n",
    "    \n",
    "    \n",
    "    \n",
    "    # Convert predicted probabilities to binary predictions\n",
    "    predicted_labels = (predicted_probs >= threshold).astype(int)\n",
    "\n",
    "    # Calculate confusion matrix\n",
    "    cm = confusion_matrix(true_labels, predicted_labels)\n",
    "    tn, fp, fn, tp = cm.ravel()\n",
    "    # print(cm)\n",
    "    # print(f'TP: {tp}, FP: {fp}, FN: {fn}, TN: {tn}')\n",
    "\n",
    "    # Calculate statistics\n",
    "    sensitivity = tp / (tp + fn)\n",
    "    specificity = tn / (tn + fp)\n",
    "    ppv = tp / (tp + fp)\n",
    "    npv = tn / (tn + fn)\n",
    "    precision = precision_score(true_labels, predicted_labels)\n",
    "    recall = recall_score(true_labels, predicted_labels)\n",
    "    accuracy = accuracy_score(true_labels, predicted_labels)\n",
    "    # auc = roc_auc_score(true_labels, predicted_probs)\n",
    "\n",
    "    # Create a dictionary to store the statistics\n",
    "    statistics = {\n",
    "        'Sensitivity': sensitivity,\n",
    "        'Specificity': specificity,\n",
    "        'Positive Predictive Value': ppv,\n",
    "        'Negative Predictive Value': npv,\n",
    "        # 'Precision': precision,\n",
    "        # 'Recall': recall,\n",
    "        'Accuracy': accuracy,\n",
    "         # 'AUC': auc\n",
    "        'True label ratio': label_ratio,\n",
    "        'Pred label ratio': pred_ratio,\n",
    "    }\n",
    "\n",
    "    return statistics"
   ]
  },
  {
   "cell_type": "code",
   "execution_count": 21,
   "id": "9731a4c2-784a-4205-ba58-26357a0d280c",
   "metadata": {
    "tags": []
   },
   "outputs": [
    {
     "name": "stdout",
     "output_type": "stream",
     "text": [
      "Sensitivity: 0.125\n",
      "Specificity: 0.874\n",
      "Positive Predictive Value: 0.538\n",
      "Negative Predictive Value: 0.459\n",
      "Accuracy: 0.469\n",
      "True label ratio: 0.541\n",
      "Pred label ratio: 0.125\n"
     ]
    }
   ],
   "source": [
    "proj_name = 'resnet_test_05_20_24'\n",
    "run_name = 'crimson-brook-1-dbbh1lmz'\n",
    "split = 'val'\n",
    "\n",
    "true_labels, predicted_probs, label_pairs = load_vectors(proj_name, run_name, split)\n",
    "stats = calculate_statistics(true_labels, predicted_probs, threshold=0.5)\n",
    "\n",
    "# Print the statistics\n",
    "for metric, value in stats.items():\n",
    "    print(f'{metric}: {value:.3f}')"
   ]
  },
  {
   "cell_type": "code",
   "execution_count": 22,
   "id": "ebd30701-932c-4034-8ae1-df5f4116c66a",
   "metadata": {
    "tags": []
   },
   "outputs": [
    {
     "name": "stdout",
     "output_type": "stream",
     "text": [
      "Sensitivity: 0.071\n",
      "Specificity: 0.747\n",
      "Positive Predictive Value: 0.250\n",
      "Negative Predictive Value: 0.406\n",
      "Accuracy: 0.382\n",
      "True label ratio: 0.541\n",
      "Pred label ratio: 0.153\n"
     ]
    }
   ],
   "source": [
    "proj_name = 'resnet_test_05_20_24'\n",
    "run_name = 'stoic-surf-2-b2p4lr0g'\n",
    "split = 'val'\n",
    "\n",
    "true_labels, predicted_probs, label_pairs = load_vectors(proj_name, run_name, split)\n",
    "stats = calculate_statistics(true_labels, predicted_probs, threshold=0.5)\n",
    "\n",
    "# Print the statistics\n",
    "for metric, value in stats.items():\n",
    "    print(f'{metric}: {value:.3f}')"
   ]
  },
  {
   "cell_type": "code",
   "execution_count": null,
   "id": "3ff5592f-d03d-4c9a-95c8-745f4457c72e",
   "metadata": {},
   "outputs": [],
   "source": []
  }
 ],
 "metadata": {
  "kernelspec": {
   "display_name": "Python (ucsf_env)",
   "language": "python",
   "name": "ucsf_env"
  },
  "language_info": {
   "codemirror_mode": {
    "name": "ipython",
    "version": 3
   },
   "file_extension": ".py",
   "mimetype": "text/x-python",
   "name": "python",
   "nbconvert_exporter": "python",
   "pygments_lexer": "ipython3",
   "version": "3.12.2"
  }
 },
 "nbformat": 4,
 "nbformat_minor": 5
}
