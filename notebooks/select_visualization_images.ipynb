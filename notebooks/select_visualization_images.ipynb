{
 "cells": [
  {
   "cell_type": "code",
   "execution_count": 10,
   "id": "51ba8628-abbd-42e0-a839-82ed7ffe70ae",
   "metadata": {},
   "outputs": [],
   "source": [
    "import os\n",
    "import torch\n",
    "import random\n",
    "from PIL import Image\n",
    "import numpy as np\n",
    "import pandas as pd\n",
    "import matplotlib.pyplot as plt\n",
    "from collections import defaultdict\n",
    "\n",
    "import sys\n",
    "root_dir = '/accounts/campus/austin.zane/ucsf_fast'\n",
    "sys.path.append(root_dir)\n",
    "os.chdir(root_dir)\n",
    "\n",
    "from experiments.utils import load_config"
   ]
  },
  {
   "cell_type": "code",
   "execution_count": 13,
   "id": "ecf31f47-ef83-4069-bb7a-7b3aeec6421b",
   "metadata": {
    "tags": []
   },
   "outputs": [
    {
     "name": "stdout",
     "output_type": "stream",
     "text": [
      "Using config_local.yaml\n"
     ]
    }
   ],
   "source": [
    "config = load_config()\n",
    "\n",
    "data_dir = config['data_dir']\n",
    "csv_path = os.path.join(data_dir, 'free_fluid_labels.csv')\n",
    "image_metadata = pd.read_csv(csv_path)\n",
    "\n",
    "test_studies = set(config['TEST_STUDIES'])\n",
    "pos_studies = defaultdict(list)\n",
    "neg_studies = defaultdict(list)\n",
    "\n",
    "for idx, row in image_metadata.iterrows():\n",
    "    if row['study_id'] in test_studies:\n",
    "        if row['free_fluid_label'] == 1:\n",
    "            pos_studies[row['study_id']].append(row['filename'])\n",
    "        elif row['free_fluid_label'] == -1:\n",
    "            neg_studies[row['study_id']].append(row['filename'])\n",
    "        else:\n",
    "            print('Error: unrecognized free fluid label')\n"
   ]
  },
  {
   "cell_type": "code",
   "execution_count": 18,
   "id": "373108bc-ab40-47e5-908c-b45274b123ea",
   "metadata": {
    "tags": []
   },
   "outputs": [],
   "source": [
    "sel_pos_studies = random.sample(list(pos_studies.keys()), 2)\n",
    "sel_neg_studies = random.sample(list(neg_studies.keys()), 3)"
   ]
  },
  {
   "cell_type": "code",
   "execution_count": 21,
   "id": "11b3da75-26fa-42ed-9a7e-6fce5c7afe16",
   "metadata": {
    "tags": []
   },
   "outputs": [],
   "source": [
    "vis_image_names = []\n",
    "\n",
    "for study in sel_pos_studies:\n",
    "    vis_image_names.append(random.choice(pos_studies[study]))\n",
    "    \n",
    "for study in sel_neg_studies:\n",
    "    vis_image_names.append(random.choice(neg_studies[study]))\n",
    "    "
   ]
  },
  {
   "cell_type": "code",
   "execution_count": 22,
   "id": "8b446456-e138-4905-9387-5bd1f3eb6377",
   "metadata": {
    "tags": []
   },
   "outputs": [
    {
     "data": {
      "text/plain": [
       "['1.2.840.114340.3.8251017179172.3.20140531.234055.7585.6_13.jpg',\n",
       " '1.2.840.114340.3.8251017179172.3.20150110.212456.12632.6_317.jpg',\n",
       " '1.2.840.114340.3.48100016190144.3.20190525.192038.3271.4_28.jpg',\n",
       " '1.2.840.114340.3.48100021226225.3.20190503.636.4219.4_147.jpg',\n",
       " '1.2.840.114340.3.48100021226225.3.20190711.162554.5282.4_9.jpg']"
      ]
     },
     "execution_count": 22,
     "metadata": {},
     "output_type": "execute_result"
    }
   ],
   "source": [
    "vis_image_names"
   ]
  }
 ],
 "metadata": {
  "kernelspec": {
   "display_name": "Python (ucsf_env)",
   "language": "python",
   "name": "ucsf_env"
  },
  "language_info": {
   "codemirror_mode": {
    "name": "ipython",
    "version": 3
   },
   "file_extension": ".py",
   "mimetype": "text/x-python",
   "name": "python",
   "nbconvert_exporter": "python",
   "pygments_lexer": "ipython3",
   "version": "3.12.2"
  }
 },
 "nbformat": 4,
 "nbformat_minor": 5
}
