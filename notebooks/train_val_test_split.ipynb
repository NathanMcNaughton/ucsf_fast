{
 "cells": [
  {
   "cell_type": "code",
   "execution_count": 7,
   "id": "760818ef-ddfe-4658-829b-ce34ec45736b",
   "metadata": {
    "tags": []
   },
   "outputs": [],
   "source": [
    "import os\n",
    "import csv\n",
    "import random\n",
    "from collections import defaultdict\n",
    "\n",
    "# This will be used later on when storing the annotation data in a useful way.\n",
    "def default_inner_dict():\n",
    "    return {\n",
    "        'SOPInstanceUID': set(),\n",
    "        'free_fluid_label': 0,\n",
    "        'frame_count': 0\n",
    "           }"
   ]
  },
  {
   "cell_type": "code",
   "execution_count": 2,
   "id": "7a75c3b6-13a1-456f-a601-5801ca5ef677",
   "metadata": {
    "tags": []
   },
   "outputs": [],
   "source": [
    "image_metadata_fname = '/scratch/users/austin.zane/ucsf_fast/data/labeled_fast_morison/free_fluid_labels.csv'\n",
    "\n",
    "with open(image_metadata_fname, 'r') as file:\n",
    "    # Rownames should be ['filename', 'free_fluid_label', 'creator_id', 'dataset_name', 'study_id'].\n",
    "    csv_reader = csv.DictReader(file)\n",
    "    \n",
    "    # We only care about these three columns.\n",
    "    image_fnames = [(row['study_id'], row['filename'], row['free_fluid_label']) for row in csv_reader]"
   ]
  },
  {
   "cell_type": "markdown",
   "id": "2ca069a1-339e-451f-ac81-a874bf24c552",
   "metadata": {
    "tags": [],
    "user_expressions": []
   },
   "source": [
    "Notes for the following data processing steps. \n",
    "1. For now, I want to exclude the positive series with SOPInstanceUID = 1.2.840.114340.3.48100016190144.3.20201005.183539.6271.4. The annotation is very messy and would only serve to hurt performance. The main issue is that it is no longer a worm and is instead a giant blob that deviates significantly from Morison's Pouch. This is a model made to detect bleeding in Morison's Pouch, specifically. This means that there could very well be bleeding nearby that a human would catch but this model will miss.\n",
    "\n",
    "2. There are some studies that contain both positive and negative series. I'm going to split the data into train/validation/test on a study-by-study level and do it separately for positives and negatives to preserve the ratio, but this is made more difficult when there are dependencies between series that prevent us from labeling an entire study as positive or negative. As a result, I will ignore the negative worm annotations in these instances because the postive annotations are much more valuable."
   ]
  },
  {
   "cell_type": "code",
   "execution_count": 33,
   "id": "d5f02fec-7869-4162-828c-74475e12c952",
   "metadata": {
    "tags": []
   },
   "outputs": [],
   "source": [
    "# Get list of study IDs that contain positive images so I know to ignore negative annotations in these studies.\n",
    "pos_exam_names = set()\n",
    "\n",
    "for study_id, fname, label in image_fnames:\n",
    "    if label == '1':\n",
    "        pos_exam_names.add(study_id)"
   ]
  },
  {
   "cell_type": "code",
   "execution_count": 37,
   "id": "240136eb-85f4-4b85-8923-6ae4c09b5c2a",
   "metadata": {
    "tags": []
   },
   "outputs": [],
   "source": [
    "exam_dict = defaultdict(default_inner_dict)\n",
    "\n",
    "for study_id, fname, label in image_fnames:\n",
    "    if fname.split('_')[0] == '1.2.840.114340.3.48100016190144.3.20201005.183539.6271.4':\n",
    "        bad_frames+=1\n",
    "        continue\n",
    "    if study_id in pos_exam_names and label == '-1':\n",
    "        continue\n",
    "    \n",
    "    exam_dict[study_id]['SOPInstanceUID'].add(fname)\n",
    "    exam_dict[study_id]['frame_count'] += 1\n",
    "    \n",
    "    if exam_dict[study_id]['free_fluid_label'] * int(label) == -1:\n",
    "        print('Problem with label')\n",
    "    elif exam_dict[study_id]['free_fluid_label'] == 0:\n",
    "        exam_dict[study_id]['free_fluid_label'] = label"
   ]
  },
  {
   "cell_type": "markdown",
   "id": "1f8240ea-1bd2-473d-96a9-01fd223eeeea",
   "metadata": {
    "tags": [],
    "user_expressions": []
   },
   "source": [
    "Quick check to see how many of each type of study I have and how many frames."
   ]
  },
  {
   "cell_type": "code",
   "execution_count": 48,
   "id": "2d62f756-e454-4107-8825-4db265238332",
   "metadata": {
    "tags": []
   },
   "outputs": [
    {
     "name": "stdout",
     "output_type": "stream",
     "text": [
      "Study: 1.2.124.113532.80.22017.45499.20181212.101448.4178768, Count: 85\n",
      "Study: 1.2.124.113532.80.22185.43466.20201005.192348.26378127, Count: 120\n",
      "Study: 1.2.840.114340.3.8251017179172.1.20150128.164353.2928, Count: 176\n",
      "Study: 1.2.840.114340.3.8251017179172.1.20150413.182024.3279, Count: 116\n",
      "Study: 1.2.840.114340.3.8251017179172.1.20140531.233136.1747, Count: 86\n",
      "Study: 1.2.840.114340.3.8251017179172.1.20141207.22848.2724, Count: 27\n",
      "Study: 1.2.840.114340.3.8251017179172.1.20150117.145059.2895, Count: 107\n",
      "Study: 1.2.840.114340.3.8251017179172.1.20150110.210256.2861, Count: 40\n",
      "\n",
      "Total number of studies is: 8\n",
      "Total number of frames is: 757\n",
      "\n",
      "Study: 1.2.840.114340.3.48100023067031.1.20191026.182159.266, Count: 3\n",
      "Study: 1.3.6.1.4.1.30071.8.345051894651.5889832971367579, Count: 1\n",
      "Study: 1.2.840.114340.3.8251050064157.1.20180731.171754.506, Count: 1\n",
      "Study: 1.3.6.1.4.1.30071.8.345051894651.5975873832447853, Count: 1\n",
      "Study: 2.25.307180669327115312541721960352445902433, Count: 1\n",
      "Study: 1.3.6.1.4.1.30071.8.345051894651.5927222542216282, Count: 2\n",
      "Study: 1.2.840.114340.3.8251050064157.1.20190509.82846.1359, Count: 1\n",
      "Study: 1.3.6.1.4.1.30071.8.345051894651.5792422788785640, Count: 1\n",
      "Study: 2.25.81696613025535718874322454499559881674, Count: 1\n",
      "Study: 1.3.6.1.4.1.30071.8.345051894651.5873517387305400, Count: 1\n",
      "Study: 1.2.840.114340.3.8251050064157.1.20191224.161649.1870, Count: 1\n",
      "Study: 1.2.124.113532.80.22185.43466.20200705.205329.75754902, Count: 1\n",
      "Study: 1.2.840.114340.3.8251050064157.1.20180525.164012.223, Count: 1\n",
      "Study: 1.3.6.1.4.1.30071.8.345051894651.6046638969300575, Count: 1\n",
      "Study: 1.3.6.1.4.1.30071.8.345051894651.5940600285253491, Count: 1\n",
      "Study: 1.2.840.114340.3.48100021226225.1.20190905.174151.2270, Count: 2\n",
      "Study: 2.25.251240236247973681992175301615919369633, Count: 1\n",
      "Study: 1.2.840.114340.3.8251050064157.1.20190512.170208.1379, Count: 6\n",
      "Study: 1.3.6.1.4.1.30071.8.345051894651.5924844836073009, Count: 11\n",
      "Study: 2.25.3369686197471868099815063444593207764, Count: 6\n",
      "Study: 1.3.6.1.4.1.30071.8.345051894651.5819132105562415, Count: 10\n",
      "Study: 1.3.6.1.4.1.30071.8.345051894651.5902915647284097, Count: 10\n",
      "Study: 1.3.6.1.4.1.30071.8.345051894651.5809582418560733, Count: 12\n",
      "Study: 1.3.6.1.4.1.30071.8.345051894651.5929714404515387, Count: 21\n",
      "Study: 1.2.840.114340.3.8251050064157.1.20190428.203851.1330, Count: 16\n",
      "Study: 1.2.840.114340.3.8251050064157.1.20190115.164302.1076, Count: 13\n",
      "Study: 1.3.6.1.4.1.30071.8.345051894651.5899989387886218, Count: 12\n",
      "Study: 2.25.209539597192098008502722443957930276929, Count: 18\n",
      "Study: 1.3.6.1.4.1.30071.8.345051894651.5801706486359462, Count: 8\n",
      "Study: 1.2.840.114340.3.8251050064157.1.20180415.220740.65, Count: 30\n",
      "Study: 2.25.74322054341000629450503922294747999055, Count: 14\n",
      "Study: 1.2.840.114340.3.8251050064157.1.20190309.131302.1190, Count: 11\n",
      "Study: 1.3.6.1.4.1.30071.8.345051894651.5878980366807708, Count: 11\n",
      "Study: 1.3.6.1.4.1.30071.8.345051894651.5830164790122281, Count: 12\n",
      "Study: 1.2.840.114340.3.8251050064157.1.20190414.162154.1287, Count: 20\n",
      "Study: 2.25.299160049697588314395021415900131773037, Count: 20\n",
      "Study: 1.2.840.114340.3.8251050064157.1.20191107.113743.1802, Count: 12\n",
      "Study: 1.2.840.114340.3.8251050064157.1.20190211.235345.1155, Count: 14\n",
      "Study: 1.3.6.1.4.1.30071.8.345051894651.5772211117769318, Count: 6\n",
      "Study: 1.3.6.1.4.1.30071.8.345051894651.5859709797197467, Count: 2\n",
      "Study: 1.3.6.1.4.1.30071.8.345051894651.6110383507921682, Count: 6\n",
      "Study: 1.2.124.113532.80.22185.43466.20190206.221609.8242889, Count: 7\n",
      "Study: 1.2.840.114340.3.8251050064157.1.20181020.134451.813, Count: 5\n",
      "Study: 1.3.6.1.4.1.30071.8.345051894651.5928902017867055, Count: 12\n",
      "Study: 1.2.840.114340.3.8251050064157.1.20181229.194323.1030, Count: 8\n",
      "Study: 1.2.840.114340.3.48100027231036.1.20180619.193231.505, Count: 9\n",
      "Study: 1.2.124.113532.80.22185.43466.20191204.184844.81540131, Count: 3\n",
      "Study: 1.3.6.1.4.1.30071.8.345051894651.5998089161221277, Count: 4\n",
      "Study: 1.2.840.114340.3.48100027231036.1.20180619.194233.507, Count: 2\n",
      "Study: 1.2.840.114340.3.48100021226225.1.20190330.205620.1407, Count: 2\n",
      "Study: 2.25.203533940784903701437513687610082620295, Count: 2\n",
      "Study: 1.2.840.114340.3.48100023067031.1.20191110.31643.381, Count: 5\n",
      "Study: 1.2.840.114340.3.8251050064157.1.20181229.44212.1028, Count: 3\n",
      "Study: 1.3.6.1.4.1.30071.8.345051894651.6112763690893821, Count: 3\n",
      "Study: 1.2.840.114340.3.8251050064157.1.20180703.73520.410, Count: 2\n",
      "Study: 1.2.840.114340.3.8251050064157.1.20190421.114715.1304, Count: 2\n",
      "Study: 1.2.840.114340.3.8251050064157.1.20190507.163756.1347, Count: 3\n",
      "Study: 1.2.840.114340.3.8251050064157.1.20180818.230906.585, Count: 2\n",
      "Study: 1.3.6.1.4.1.30071.8.345051894651.5983308155384738, Count: 3\n",
      "Study: 1.2.840.114340.3.8251050064157.1.20190130.160016.1116, Count: 2\n",
      "Study: 2.25.223006661151287280551827710590192939264, Count: 2\n",
      "Study: 1.3.6.1.4.1.30071.8.345051894651.6101854735274411, Count: 2\n",
      "Study: 2.25.214689868083509714257440351210895475474, Count: 2\n",
      "Study: 1.3.6.1.4.1.30071.8.345051894651.6130815608692531, Count: 2\n",
      "Study: 2.25.44878461713320799746794712233397037639, Count: 4\n",
      "Study: 1.2.840.114340.3.48100027231036.1.20180412.182159.122, Count: 2\n",
      "Study: 1.2.840.114340.3.48100027231036.1.20180504.25134.264, Count: 2\n",
      "Study: 1.2.124.113532.80.22017.45499.20181016.133233.21850290, Count: 2\n",
      "Study: 1.2.840.114340.3.8251050064157.1.20190806.192740.1542, Count: 2\n",
      "Study: 1.3.6.1.4.1.30071.8.345051894651.5996231591403985, Count: 2\n",
      "Study: 2.25.20441038183238771981974808744799632329, Count: 2\n",
      "Study: 2.25.53161317243631938853551138569628650941, Count: 2\n",
      "Study: 1.3.6.1.4.1.30071.8.345051894651.6072229000747089, Count: 3\n",
      "Study: 2.25.177088945512522741463896912923250539068, Count: 3\n",
      "Study: 1.3.6.1.4.1.30071.8.345051894651.5775899648896531, Count: 1\n",
      "Study: 1.3.6.1.4.1.30071.8.345051894651.6011848495258044, Count: 2\n",
      "Study: 1.2.840.114340.3.48100021226225.1.20190101.21429.1014, Count: 2\n",
      "Study: 1.3.6.1.4.1.30071.8.345051894651.5926468230724501, Count: 2\n",
      "Study: 1.2.840.114340.3.8251050064157.1.20181014.184416.795, Count: 4\n",
      "Study: 2.25.336829676375118140130621874283273797819, Count: 2\n",
      "Study: 1.2.840.114340.3.8251050064157.1.20180609.194018.299, Count: 2\n",
      "Study: 1.3.6.1.4.1.30071.8.345051894651.5967902132558210, Count: 1\n",
      "Study: 1.3.6.1.4.1.30071.8.345051894651.5787649599477352, Count: 3\n",
      "Study: 1.2.124.113532.80.22185.43466.20190525.185841.15868795, Count: 3\n",
      "Study: 1.3.6.1.4.1.30071.8.345051894651.5780083138551689, Count: 9\n",
      "Study: 1.2.840.114340.3.48100027231036.1.20180423.63801.192, Count: 2\n",
      "Study: 1.2.840.114340.3.8251050064157.1.20190211.133134.1152, Count: 1\n",
      "Study: 1.3.6.1.4.1.30071.8.345051894651.5952889221268793, Count: 1\n",
      "Study: 1.2.840.114340.3.8251050064157.1.20180421.202042.103, Count: 1\n",
      "Study: 1.2.840.114340.3.8251050064157.1.20190103.160652.1045, Count: 2\n",
      "Study: 2.25.326480628786581691001937943234171867512, Count: 1\n",
      "Study: 1.2.840.114340.3.8251050064157.1.20180802.120625.517, Count: 1\n",
      "Study: 1.2.124.113532.80.22185.43466.20191015.190233.13980552, Count: 2\n",
      "Study: 1.3.6.1.4.1.30071.8.345051894651.5804397370732974, Count: 2\n",
      "Study: 2.25.313691530398574166287687596240074128815, Count: 2\n",
      "\n",
      "Total number of studies is: 95\n",
      "Total number of frames is: 479\n",
      "\n"
     ]
    }
   ],
   "source": [
    "pos_exams = {}\n",
    "total_frames_pos = 0\n",
    "\n",
    "for k in exam_dict:\n",
    "    if exam_dict[k]['free_fluid_label'] == '1':\n",
    "        pos_exams[k] = exam_dict[k]\n",
    "        print(f'Study: {k}, Count: {pos_exams[k]['frame_count']}')\n",
    "        total_frames_pos += pos_exams[k]['frame_count']\n",
    "print(f'\\nTotal number of studies is: {len(pos_exams)}')\n",
    "print(f'Total number of frames is: {total_frames_pos}\\n')\n",
    "\n",
    "neg_exams = {}\n",
    "total_frames_neg = 0\n",
    "\n",
    "for k in exam_dict:\n",
    "    if exam_dict[k]['free_fluid_label'] == '-1':\n",
    "        neg_exams[k] = exam_dict[k]\n",
    "        print(f'Study: {k}, Count: {neg_exams[k]['frame_count']}')\n",
    "        total_frames_neg += neg_exams[k]['frame_count']\n",
    "print(f'\\nTotal number of studies is: {len(neg_exams)}')\n",
    "print(f'Total number of frames is: {total_frames_neg}\\n')"
   ]
  },
  {
   "cell_type": "code",
   "execution_count": 71,
   "id": "dfdafdf0-3158-4822-94ca-0dcaa7fa427f",
   "metadata": {
    "tags": []
   },
   "outputs": [],
   "source": [
    "pos_exam_names = list(pos_exams.keys())\n",
    "neg_exam_names = list(neg_exams.keys())\n",
    "\n",
    "random.shuffle(pos_exam_names)\n",
    "random.shuffle(neg_exam_names)\n",
    "\n",
    "# We know we want 3, 2, 3 for positives. Get proportional indices for negatives.\n",
    "n = float(len(neg_exam_names))\n",
    "train_end = int(n * (3.0/8.0))\n",
    "val_end = int(n * (5.0/8.0))\n",
    "\n",
    "train_pos, val_pos, test_pos = pos_exam_names[:3], pos_exam_names[3:5], pos_exam_names[5:]\n",
    "train_neg, val_neg, test_neg = neg_exam_names[:train_end], neg_exam_names[train_end:val_end], neg_exam_names[val_end:]\n"
   ]
  },
  {
   "cell_type": "code",
   "execution_count": 54,
   "id": "00292734-7575-4b3d-8fb3-b2f6cd71c631",
   "metadata": {
    "tags": []
   },
   "outputs": [],
   "source": [
    "def count_frames(study_list):\n",
    "    total = 0\n",
    "    for k in study_list:\n",
    "        total += exam_dict[k]['frame_count']\n",
    "    return total\n",
    "    "
   ]
  },
  {
   "cell_type": "code",
   "execution_count": 72,
   "id": "3acd8052-3352-4c2c-b6fd-c6c342acf912",
   "metadata": {},
   "outputs": [
    {
     "name": "stdout",
     "output_type": "stream",
     "text": [
      "Positive sets\n",
      "Num of pos train frames: 343\n",
      "Num of pos vali. frames: 112\n",
      "Num of pos test frames: 302\n",
      "Negative sets\n",
      "Num of neg train frames: 194\n",
      "Num of neg vali. frames: 95\n",
      "Num of neg test frames: 190\n"
     ]
    }
   ],
   "source": [
    "print(f'Positive sets')\n",
    "print(f'Num of pos train frames: {count_frames(train_pos)}')\n",
    "print(f'Num of pos vali. frames: {count_frames(val_pos)}')\n",
    "print(f'Num of pos test frames: {count_frames(test_pos)}')\n",
    "\n",
    "\n",
    "print(f'Negative sets')\n",
    "print(f'Num of neg train frames: {count_frames(train_neg)}')\n",
    "print(f'Num of neg vali. frames: {count_frames(val_neg)}')\n",
    "print(f'Num of neg test frames: {count_frames(test_neg)}')"
   ]
  },
  {
   "cell_type": "code",
   "execution_count": 92,
   "id": "9b326d51-ee74-4216-b26f-41c0ab284d31",
   "metadata": {
    "tags": []
   },
   "outputs": [
    {
     "name": "stdout",
     "output_type": "stream",
     "text": [
      "Train:\n",
      "\n",
      "train = [\n",
      "\t'1.2.840.114340.3.8251017179172.1.20150117.145059.2895',\n",
      "\t'1.2.124.113532.80.22185.43466.20201005.192348.26378127',\n",
      "\t'1.2.840.114340.3.8251017179172.1.20150413.182024.3279',\n",
      "\t'1.3.6.1.4.1.30071.8.345051894651.5792422788785640',\n",
      "\t'2.25.177088945512522741463896912923250539068',\n",
      "\t'1.3.6.1.4.1.30071.8.345051894651.5859709797197467',\n",
      "\t'1.3.6.1.4.1.30071.8.345051894651.5780083138551689',\n",
      "\t'1.3.6.1.4.1.30071.8.345051894651.5927222542216282',\n",
      "\t'1.2.840.114340.3.48100021226225.1.20190905.174151.2270',\n",
      "\t'1.3.6.1.4.1.30071.8.345051894651.5809582418560733',\n",
      "\t'1.3.6.1.4.1.30071.8.345051894651.5975873832447853',\n",
      "\t'1.2.840.114340.3.8251050064157.1.20181020.134451.813',\n",
      "\t'1.2.840.114340.3.8251050064157.1.20180802.120625.517',\n",
      "\t'1.3.6.1.4.1.30071.8.345051894651.5998089161221277',\n",
      "\t'1.2.840.114340.3.8251050064157.1.20190428.203851.1330',\n",
      "\t'1.3.6.1.4.1.30071.8.345051894651.5929714404515387',\n",
      "\t'2.25.307180669327115312541721960352445902433',\n",
      "\t'1.2.840.114340.3.48100023067031.1.20191110.31643.381',\n",
      "\t'1.3.6.1.4.1.30071.8.345051894651.5878980366807708',\n",
      "\t'1.3.6.1.4.1.30071.8.345051894651.5924844836073009',\n",
      "\t'2.25.299160049697588314395021415900131773037',\n",
      "\t'2.25.74322054341000629450503922294747999055',\n",
      "\t'1.3.6.1.4.1.30071.8.345051894651.5772211117769318',\n",
      "\t'1.2.840.114340.3.8251050064157.1.20180818.230906.585',\n",
      "\t'1.3.6.1.4.1.30071.8.345051894651.5899989387886218',\n",
      "\t'2.25.203533940784903701437513687610082620295',\n",
      "\t'1.3.6.1.4.1.30071.8.345051894651.5926468230724501',\n",
      "\t'2.25.336829676375118140130621874283273797819',\n",
      "\t'2.25.326480628786581691001937943234171867512',\n",
      "\t'1.2.840.114340.3.8251050064157.1.20181014.184416.795',\n",
      "\t'1.3.6.1.4.1.30071.8.345051894651.6011848495258044',\n",
      "\t'1.2.124.113532.80.22185.43466.20191015.190233.13980552',\n",
      "\t'2.25.53161317243631938853551138569628650941',\n",
      "\t'1.2.840.114340.3.48100021226225.1.20190101.21429.1014',\n",
      "\t'1.3.6.1.4.1.30071.8.345051894651.5801706486359462',\n",
      "\t'2.25.44878461713320799746794712233397037639',\n",
      "\t'1.2.840.114340.3.8251050064157.1.20190211.133134.1152',\n",
      "\t'1.3.6.1.4.1.30071.8.345051894651.5775899648896531',\n",
      "]\n",
      "\n",
      "Validation:\n",
      "\n",
      "val = [\n",
      "\t'1.2.840.114340.3.8251017179172.1.20141207.22848.2724',\n",
      "\t'1.2.124.113532.80.22017.45499.20181212.101448.4178768',\n",
      "\t'1.2.840.114340.3.8251050064157.1.20190414.162154.1287',\n",
      "\t'2.25.313691530398574166287687596240074128815',\n",
      "\t'1.2.840.114340.3.8251050064157.1.20190103.160652.1045',\n",
      "\t'1.3.6.1.4.1.30071.8.345051894651.5902915647284097',\n",
      "\t'2.25.81696613025535718874322454499559881674',\n",
      "\t'1.2.840.114340.3.8251050064157.1.20181229.194323.1030',\n",
      "\t'1.3.6.1.4.1.30071.8.345051894651.5804397370732974',\n",
      "\t'1.3.6.1.4.1.30071.8.345051894651.6130815608692531',\n",
      "\t'1.3.6.1.4.1.30071.8.345051894651.6110383507921682',\n",
      "\t'1.2.840.114340.3.8251050064157.1.20190512.170208.1379',\n",
      "\t'1.2.840.114340.3.8251050064157.1.20190130.160016.1116',\n",
      "\t'1.3.6.1.4.1.30071.8.345051894651.6072229000747089',\n",
      "\t'1.2.840.114340.3.8251050064157.1.20190509.82846.1359',\n",
      "\t'1.3.6.1.4.1.30071.8.345051894651.6046638969300575',\n",
      "\t'1.3.6.1.4.1.30071.8.345051894651.5983308155384738',\n",
      "\t'1.3.6.1.4.1.30071.8.345051894651.5952889221268793',\n",
      "\t'1.2.124.113532.80.22185.43466.20190206.221609.8242889',\n",
      "\t'1.2.840.114340.3.48100027231036.1.20180619.193231.505',\n",
      "\t'1.2.124.113532.80.22185.43466.20200705.205329.75754902',\n",
      "\t'1.2.840.114340.3.8251050064157.1.20180731.171754.506',\n",
      "\t'1.3.6.1.4.1.30071.8.345051894651.5967902132558210',\n",
      "\t'1.2.124.113532.80.22017.45499.20181016.133233.21850290',\n",
      "\t'2.25.214689868083509714257440351210895475474',\n",
      "\t'1.2.840.114340.3.8251050064157.1.20190421.114715.1304',\n",
      "]\n",
      "\n",
      "Test:\n",
      "\n",
      "test = [\n",
      "\t'1.2.840.114340.3.8251017179172.1.20140531.233136.1747',\n",
      "\t'1.2.840.114340.3.8251017179172.1.20150128.164353.2928',\n",
      "\t'1.2.840.114340.3.8251017179172.1.20150110.210256.2861',\n",
      "\t'1.3.6.1.4.1.30071.8.345051894651.5996231591403985',\n",
      "\t'1.2.840.114340.3.8251050064157.1.20180525.164012.223',\n",
      "\t'1.2.840.114340.3.48100027231036.1.20180504.25134.264',\n",
      "\t'1.3.6.1.4.1.30071.8.345051894651.6101854735274411',\n",
      "\t'1.3.6.1.4.1.30071.8.345051894651.5889832971367579',\n",
      "\t'1.2.840.114340.3.8251050064157.1.20180421.202042.103',\n",
      "\t'2.25.223006661151287280551827710590192939264',\n",
      "\t'1.2.840.114340.3.48100027231036.1.20180412.182159.122',\n",
      "\t'1.2.840.114340.3.48100023067031.1.20191026.182159.266',\n",
      "\t'1.2.840.114340.3.8251050064157.1.20190806.192740.1542',\n",
      "\t'1.3.6.1.4.1.30071.8.345051894651.5819132105562415',\n",
      "\t'1.2.840.114340.3.48100021226225.1.20190330.205620.1407',\n",
      "\t'2.25.251240236247973681992175301615919369633',\n",
      "\t'1.3.6.1.4.1.30071.8.345051894651.6112763690893821',\n",
      "\t'2.25.20441038183238771981974808744799632329',\n",
      "\t'1.2.840.114340.3.8251050064157.1.20180415.220740.65',\n",
      "\t'1.2.840.114340.3.8251050064157.1.20191107.113743.1802',\n",
      "\t'1.2.840.114340.3.8251050064157.1.20190507.163756.1347',\n",
      "\t'1.2.840.114340.3.48100027231036.1.20180619.194233.507',\n",
      "\t'1.2.840.114340.3.8251050064157.1.20180703.73520.410',\n",
      "\t'1.3.6.1.4.1.30071.8.345051894651.5928902017867055',\n",
      "\t'1.3.6.1.4.1.30071.8.345051894651.5830164790122281',\n",
      "\t'2.25.3369686197471868099815063444593207764',\n",
      "\t'1.3.6.1.4.1.30071.8.345051894651.5873517387305400',\n",
      "\t'1.2.840.114340.3.48100027231036.1.20180423.63801.192',\n",
      "\t'2.25.209539597192098008502722443957930276929',\n",
      "\t'1.3.6.1.4.1.30071.8.345051894651.5787649599477352',\n",
      "\t'1.2.124.113532.80.22185.43466.20191204.184844.81540131',\n",
      "\t'1.2.124.113532.80.22185.43466.20190525.185841.15868795',\n",
      "\t'1.2.840.114340.3.8251050064157.1.20190115.164302.1076',\n",
      "\t'1.2.840.114340.3.8251050064157.1.20181229.44212.1028',\n",
      "\t'1.2.840.114340.3.8251050064157.1.20190211.235345.1155',\n",
      "\t'1.2.840.114340.3.8251050064157.1.20180609.194018.299',\n",
      "\t'1.2.840.114340.3.8251050064157.1.20190309.131302.1190',\n",
      "\t'1.2.840.114340.3.8251050064157.1.20191224.161649.1870',\n",
      "\t'1.3.6.1.4.1.30071.8.345051894651.5940600285253491',\n",
      "]\n",
      "\n"
     ]
    }
   ],
   "source": [
    "print(f'Train:\\n')\n",
    "print(f'train = [')\n",
    "for i in train_pos:\n",
    "    print(f\"\\t'{i}',\")\n",
    "for i in train_neg:\n",
    "    print(f\"\\t'{i}',\")\n",
    "print(f']\\n')\n",
    "    \n",
    "print(f'Validation:\\n')\n",
    "print(f'val = [')\n",
    "for i in val_pos:\n",
    "    print(f\"\\t'{i}',\")\n",
    "for i in val_neg:\n",
    "    print(f\"\\t'{i}',\")\n",
    "print(f']\\n')\n",
    "    \n",
    "print(f'Test:\\n')\n",
    "print(f'test = [')\n",
    "for i in test_pos:\n",
    "    print(f\"\\t'{i}',\")\n",
    "for i in test_neg:\n",
    "    print(f\"\\t'{i}',\")\n",
    "print(f']\\n')\n",
    "\n"
   ]
  },
  {
   "cell_type": "markdown",
   "id": "8836129f-5684-459a-95bb-76f3edeb9642",
   "metadata": {},
   "source": [
    "The above have been placed in the main config file. Next, I need to get a new visualization set from the validation set."
   ]
  },
  {
   "cell_type": "code",
   "execution_count": 97,
   "id": "0cc266e0-4742-407a-946f-1be7088ed70e",
   "metadata": {},
   "outputs": [],
   "source": [
    "vis_exams = random.sample(val_pos, 2) + random.sample(val_neg, 3)"
   ]
  },
  {
   "cell_type": "code",
   "execution_count": 105,
   "id": "9f8473e6-18cf-4142-99f4-8fab9865e628",
   "metadata": {
    "tags": []
   },
   "outputs": [],
   "source": [
    "vis_series = []\n",
    "for e in vis_exams:\n",
    "    vis_series.append(random.choice(list(exam_dict[e]['SOPInstanceUID'])))"
   ]
  },
  {
   "cell_type": "code",
   "execution_count": 106,
   "id": "a46e11c8-ec4c-41cb-b72b-ac7dd22fddeb",
   "metadata": {
    "tags": []
   },
   "outputs": [
    {
     "data": {
      "text/plain": [
       "['1.2.840.114340.3.8251017179172.3.20141207.22903.11967.6_16.jpg',\n",
       " '1.2.840.114340.3.48100016196004.3.20181212.112840.4792.4_68.jpg',\n",
       " '1.2.840.114340.3.48100021226225.3.20190716.165507.5358.4_167.jpg',\n",
       " '1.2.840.114340.3.48100027231036.3.20180619.193417.1817.4_82.jpg',\n",
       " '1.2.840.114340.3.8251050064157.3.20181111.150608.3461.6_3.jpg']"
      ]
     },
     "execution_count": 106,
     "metadata": {},
     "output_type": "execute_result"
    }
   ],
   "source": [
    "vis_series"
   ]
  }
 ],
 "metadata": {
  "kernelspec": {
   "display_name": "Python (ucsf_env)",
   "language": "python",
   "name": "ucsf_env"
  },
  "language_info": {
   "codemirror_mode": {
    "name": "ipython",
    "version": 3
   },
   "file_extension": ".py",
   "mimetype": "text/x-python",
   "name": "python",
   "nbconvert_exporter": "python",
   "pygments_lexer": "ipython3",
   "version": "3.12.2"
  }
 },
 "nbformat": 4,
 "nbformat_minor": 5
}
